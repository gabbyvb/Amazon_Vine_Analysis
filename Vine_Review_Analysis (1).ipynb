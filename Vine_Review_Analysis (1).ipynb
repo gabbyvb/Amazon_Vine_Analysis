{
  "nbformat": 4,
  "nbformat_minor": 0,
  "metadata": {
    "colab": {
      "name": "Vine_Review_Analysis",
      "provenance": []
    },
    "kernelspec": {
      "name": "python3",
      "display_name": "Python 3"
    },
    "language_info": {
      "name": "python"
    }
  },
  "cells": [
    {
      "cell_type": "code",
      "execution_count": 1,
      "metadata": {
        "colab": {
          "base_uri": "https://localhost:8080/"
        },
        "id": "aZvkyJsgBYFs",
        "outputId": "c3f80f28-be42-4714-95d3-dcd1d417ee2e"
      },
      "outputs": [
        {
          "output_type": "stream",
          "name": "stdout",
          "text": [
            "\r0% [Working]\r            \rGet:1 http://security.ubuntu.com/ubuntu bionic-security InRelease [88.7 kB]\n",
            "Get:2 https://cloud.r-project.org/bin/linux/ubuntu bionic-cran40/ InRelease [3,626 B]\n",
            "Get:3 http://ppa.launchpad.net/c2d4u.team/c2d4u4.0+/ubuntu bionic InRelease [15.9 kB]\n",
            "Ign:4 https://developer.download.nvidia.com/compute/cuda/repos/ubuntu1804/x86_64  InRelease\n",
            "Hit:5 http://archive.ubuntu.com/ubuntu bionic InRelease\n",
            "Ign:6 https://developer.download.nvidia.com/compute/machine-learning/repos/ubuntu1804/x86_64  InRelease\n",
            "Get:7 http://archive.ubuntu.com/ubuntu bionic-updates InRelease [88.7 kB]\n",
            "Hit:8 https://developer.download.nvidia.com/compute/cuda/repos/ubuntu1804/x86_64  Release\n",
            "Hit:9 https://developer.download.nvidia.com/compute/machine-learning/repos/ubuntu1804/x86_64  Release\n",
            "Hit:10 http://ppa.launchpad.net/cran/libgit2/ubuntu bionic InRelease\n",
            "Get:11 http://security.ubuntu.com/ubuntu bionic-security/universe amd64 Packages [1,459 kB]\n",
            "Hit:12 http://archive.ubuntu.com/ubuntu bionic-backports InRelease\n",
            "Get:13 http://ppa.launchpad.net/deadsnakes/ppa/ubuntu bionic InRelease [15.9 kB]\n",
            "Get:14 http://security.ubuntu.com/ubuntu bionic-security/main amd64 Packages [2,489 kB]\n",
            "Get:15 http://ppa.launchpad.net/graphics-drivers/ppa/ubuntu bionic InRelease [21.3 kB]\n",
            "Get:16 http://security.ubuntu.com/ubuntu bionic-security/multiverse amd64 Packages [26.8 kB]\n",
            "Get:17 http://security.ubuntu.com/ubuntu bionic-security/restricted amd64 Packages [716 kB]\n",
            "Get:18 http://ppa.launchpad.net/c2d4u.team/c2d4u4.0+/ubuntu bionic/main Sources [1,822 kB]\n",
            "Get:21 http://ppa.launchpad.net/c2d4u.team/c2d4u4.0+/ubuntu bionic/main amd64 Packages [934 kB]\n",
            "Get:22 http://archive.ubuntu.com/ubuntu bionic-updates/restricted amd64 Packages [749 kB]\n",
            "Get:23 http://archive.ubuntu.com/ubuntu bionic-updates/universe amd64 Packages [2,238 kB]\n",
            "Get:24 http://archive.ubuntu.com/ubuntu bionic-updates/multiverse amd64 Packages [34.5 kB]\n",
            "Get:25 http://archive.ubuntu.com/ubuntu bionic-updates/main amd64 Packages [2,927 kB]\n",
            "Get:26 http://ppa.launchpad.net/deadsnakes/ppa/ubuntu bionic/main amd64 Packages [45.3 kB]\n",
            "Get:27 http://ppa.launchpad.net/graphics-drivers/ppa/ubuntu bionic/main amd64 Packages [44.7 kB]\n",
            "Fetched 13.7 MB in 4s (3,086 kB/s)\n",
            "Reading package lists... Done\n"
          ]
        }
      ],
      "source": [
        "import os\n",
        "# Find the latest version of spark 3.0 from http://www.apache.org/dist/spark/ and enter as the spark version\n",
        "# For example:\n",
        "# spark_version = 'spark-3.0.3'\n",
        "spark_version = 'spark-3.0.3'\n",
        "os.environ['SPARK_VERSION']=spark_version\n",
        "\n",
        "# Install Spark and Java\n",
        "!apt-get update\n",
        "!apt-get install openjdk-11-jdk-headless -qq > /dev/null\n",
        "!wget -q http://www.apache.org/dist/spark/$SPARK_VERSION/$SPARK_VERSION-bin-hadoop2.7.tgz\n",
        "!tar xf $SPARK_VERSION-bin-hadoop2.7.tgz\n",
        "!pip install -q findspark\n",
        "\n",
        "# Set Environment Variables\n",
        "import os\n",
        "os.environ[\"JAVA_HOME\"] = \"/usr/lib/jvm/java-11-openjdk-amd64\"\n",
        "os.environ[\"SPARK_HOME\"] = f\"/content/{spark_version}-bin-hadoop2.7\"\n",
        "\n",
        "# Start a SparkSession\n",
        "import findspark\n",
        "findspark.init()"
      ]
    },
    {
      "cell_type": "code",
      "source": [
        "# Download the Postgres driver that will allow Spark to interact with Postgres.\n",
        "!wget https://jdbc.postgresql.org/download/postgresql-42.2.16.jar"
      ],
      "metadata": {
        "colab": {
          "base_uri": "https://localhost:8080/"
        },
        "id": "voCop4LpBfRv",
        "outputId": "e39ab5d8-1378-431b-cc47-051ca145ea5c"
      },
      "execution_count": 2,
      "outputs": [
        {
          "output_type": "stream",
          "name": "stdout",
          "text": [
            "--2022-01-06 01:36:22--  https://jdbc.postgresql.org/download/postgresql-42.2.16.jar\n",
            "Resolving jdbc.postgresql.org (jdbc.postgresql.org)... 72.32.157.228, 2001:4800:3e1:1::228\n",
            "Connecting to jdbc.postgresql.org (jdbc.postgresql.org)|72.32.157.228|:443... connected.\n",
            "HTTP request sent, awaiting response... 200 OK\n",
            "Length: 1002883 (979K) [application/java-archive]\n",
            "Saving to: ‘postgresql-42.2.16.jar’\n",
            "\n",
            "postgresql-42.2.16. 100%[===================>] 979.38K  5.85MB/s    in 0.2s    \n",
            "\n",
            "2022-01-06 01:36:22 (5.85 MB/s) - ‘postgresql-42.2.16.jar’ saved [1002883/1002883]\n",
            "\n"
          ]
        }
      ]
    },
    {
      "cell_type": "code",
      "source": [
        "from pyspark.sql import SparkSession\n",
        "spark = SparkSession.builder.appName(\"M16-Amazon-Challenge\").config(\"spark.driver.extraClassPath\",\"/content/postgresql-42.2.16.jar\").getOrCreate()"
      ],
      "metadata": {
        "id": "NbZGXqlABhvP"
      },
      "execution_count": 3,
      "outputs": []
    },
    {
      "cell_type": "code",
      "source": [
        "from pyspark import SparkFiles\n",
        "url = \"https://s3.amazonaws.com/amazon-reviews-pds/tsv/amazon_reviews_us_Jewelry_v1_00.tsv.gz\"\n",
        "spark.sparkContext.addFile(url)\n",
        "df = spark.read.option(\"encoding\", \"UTF-8\").csv(SparkFiles.get(\"\"), sep=\"\\t\", header=True, inferSchema=True)\n",
        "df.show()"
      ],
      "metadata": {
        "colab": {
          "base_uri": "https://localhost:8080/"
        },
        "id": "pXuuX2OlBpTO",
        "outputId": "c4eb7d5f-e9a7-497d-c3b9-84520d2cc36e"
      },
      "execution_count": 4,
      "outputs": [
        {
          "output_type": "stream",
          "name": "stdout",
          "text": [
            "+-----------+-----------+--------------+----------+--------------+--------------------+----------------+-----------+-------------+-----------+----+-----------------+--------------------+--------------------+-----------+\n",
            "|marketplace|customer_id|     review_id|product_id|product_parent|       product_title|product_category|star_rating|helpful_votes|total_votes|vine|verified_purchase|     review_headline|         review_body|review_date|\n",
            "+-----------+-----------+--------------+----------+--------------+--------------------+----------------+-----------+-------------+-----------+----+-----------------+--------------------+--------------------+-----------+\n",
            "|         US|   50423057|R135Q3VZ4DQN5N|B00JWXFDMG|     657335467|Everbling Purple ...|         Jewelry|          5|            0|          0|   N|                Y|           Beauties!|so beautiful even...| 2015-08-31|\n",
            "|         US|   11262325|R2N0QQ6R4T7YRY|B00W5T1H9W|      26030170|925 Sterling Silv...|         Jewelry|          5|            0|          0|   N|                N|      Great product.|Great product.. I...| 2015-08-31|\n",
            "|         US|   27541121|R3N5JE5Y4T6W5M|B00M2L6KFY|     697845240|Sterling Silver C...|         Jewelry|          5|            0|          0|   N|                Y|Exactly as pictur...|Exactly as pictur...| 2015-08-31|\n",
            "|         US|    5350721|R2I150CX5IVY9Q|B0006SW2WU|     569859289|Surgical Stainles...|         Jewelry|          5|            0|          0|   N|                Y|          Five Stars|Love it. Fits gre...| 2015-08-31|\n",
            "|         US|   24484424|R1RM9ICOOA9MQ3|B009YPDW70|     332947422|Sterling Silver F...|         Jewelry|          5|            0|          0|   N|                Y|... a Mother's Da...|Got this as a Mot...| 2015-08-31|\n",
            "|         US|     457767|R2J2KMDL10UMSH|B00QGA8XZM|     424804582|CHOOSE YOUR COLOR...|         Jewelry|          5|            0|          0|   N|                Y|          Five Stars|I Love It Make Me...| 2015-08-31|\n",
            "|         US|   31009358|R3R9ZUFA4TB4FQ|B00L0N0E8E|     589441783|Metal Factory 925...|         Jewelry|          5|            0|          0|   N|                Y|          Five Stars|True to size, unique| 2015-08-31|\n",
            "|         US|    7034628|R3UQ8VAQN7R6WL|B00DMWQKWA|     517428445|niceEshop(TM)Clas...|         Jewelry|          5|            0|          0|   N|                Y|          Five Stars|This necklace is ...| 2015-08-31|\n",
            "|         US|   34608636|R1FXZ69C01JNQM|B00THLHAGA|     320313750|Genuine Natural B...|         Jewelry|          5|            0|          0|   N|                Y|          Five Stars|        just perfect| 2015-08-31|\n",
            "|         US|   44972687| RY36LB4OW0FFS|B00UXSEOHY|     589365488|MBOX Expandable A...|         Jewelry|          5|            0|          0|   N|                Y|          Five Stars|           Love it !| 2015-08-31|\n",
            "|         US|   16684508| R6PKS54PC6ZY2|B00XGRYGVS|     217045013|Set of 3 Nose Rin...|         Jewelry|          1|            4|          4|   N|                Y|I had high hopes ...|They didn't even ...| 2015-08-31|\n",
            "|         US|   23493178|R1LYSAH0IECVWB|B00AJ2VU8A|     972853757|3-row White A Gra...|         Jewelry|          5|            0|          0|   N|                Y|This is a real ni...|This is a real ni...| 2015-08-31|\n",
            "|         US|     108294|R1UN0IZI3XQ3E2|B00LE5Y100|     979375701|KONOV Mens Stainl...|         Jewelry|          5|            2|          3|   N|                Y|             AMAZING|This is a very co...| 2015-08-31|\n",
            "|         US|   25810742| RIKDXD8QGL99S|B013E0AOH6|     619592796|TEMEGO Jewelry Me...|         Jewelry|          5|            1|          1|   N|                Y|          Five Stars|Great quality for...| 2015-08-31|\n",
            "|         US|   12037665| RUZCQTXZVGUFH|B00XAWUP96|     783863439|Royal Blue/White ...|         Jewelry|          4|            1|          1|   N|                Y|A Little Smaller ...|I like the bracel...| 2015-08-31|\n",
            "|         US|   51793466|R35CD4IHO3RP9H|B00WD82F1O|     655270378|10-11mm Baroque F...|         Jewelry|          5|            1|          1|   N|                Y|Pretty and Versatile|This is pretty an...| 2015-08-31|\n",
            "|         US|     127508|R13YD66XC9221U|B00JP4XCSO|     592155747|Sankuwen® Fashion...|         Jewelry|          1|            0|          0|   N|                N|Don't get this li...|Don't get this li...| 2015-08-31|\n",
            "|         US|   38430946| RHWG4JRVDSEYY|B00PZSM384|     622179716|zjskin6688 store ...|         Jewelry|          3|            1|          1|   N|                Y|         Three Stars|Not what I expect...| 2015-08-31|\n",
            "|         US|   33684654|R3SPIKMJ5IWHX8|B00VLMW18K|      36759824|Scheppend Polymer...|         Jewelry|          4|            0|          0|   N|                Y|          Four Stars|Bought these for ...| 2015-08-31|\n",
            "|         US|    5068631| RS19ACU7KWWNE|B00U5LDBB4|     575109200|Horizontal Sidewa...|         Jewelry|          5|            1|          1|   N|                Y|          Five Stars|Pretty, and very ...| 2015-08-31|\n",
            "+-----------+-----------+--------------+----------+--------------+--------------------+----------------+-----------+-------------+-----------+----+-----------------+--------------------+--------------------+-----------+\n",
            "only showing top 20 rows\n",
            "\n"
          ]
        }
      ]
    },
    {
      "cell_type": "code",
      "source": [
        "from pyspark.sql.functions import to_date\n",
        "# Read in the Review dataset as a DataFrame"
      ],
      "metadata": {
        "id": "QYQhqkO1Br-Y"
      },
      "execution_count": 5,
      "outputs": []
    },
    {
      "cell_type": "code",
      "source": [
        "# Create the vine_table. DataFrame\n",
        "vine_df = df.select([\"review_id\", \"star_rating\", \"helpful_votes\", \"total_votes\", \"vine\", \"verified_purchase\"])\n",
        "vine_df.show()"
      ],
      "metadata": {
        "colab": {
          "base_uri": "https://localhost:8080/"
        },
        "id": "3LjoF8xyBslj",
        "outputId": "5e62d403-c8df-4159-bcbe-692dea4cab2e"
      },
      "execution_count": 6,
      "outputs": [
        {
          "output_type": "stream",
          "name": "stdout",
          "text": [
            "+--------------+-----------+-------------+-----------+----+-----------------+\n",
            "|     review_id|star_rating|helpful_votes|total_votes|vine|verified_purchase|\n",
            "+--------------+-----------+-------------+-----------+----+-----------------+\n",
            "|R135Q3VZ4DQN5N|          5|            0|          0|   N|                Y|\n",
            "|R2N0QQ6R4T7YRY|          5|            0|          0|   N|                N|\n",
            "|R3N5JE5Y4T6W5M|          5|            0|          0|   N|                Y|\n",
            "|R2I150CX5IVY9Q|          5|            0|          0|   N|                Y|\n",
            "|R1RM9ICOOA9MQ3|          5|            0|          0|   N|                Y|\n",
            "|R2J2KMDL10UMSH|          5|            0|          0|   N|                Y|\n",
            "|R3R9ZUFA4TB4FQ|          5|            0|          0|   N|                Y|\n",
            "|R3UQ8VAQN7R6WL|          5|            0|          0|   N|                Y|\n",
            "|R1FXZ69C01JNQM|          5|            0|          0|   N|                Y|\n",
            "| RY36LB4OW0FFS|          5|            0|          0|   N|                Y|\n",
            "| R6PKS54PC6ZY2|          1|            4|          4|   N|                Y|\n",
            "|R1LYSAH0IECVWB|          5|            0|          0|   N|                Y|\n",
            "|R1UN0IZI3XQ3E2|          5|            2|          3|   N|                Y|\n",
            "| RIKDXD8QGL99S|          5|            1|          1|   N|                Y|\n",
            "| RUZCQTXZVGUFH|          4|            1|          1|   N|                Y|\n",
            "|R35CD4IHO3RP9H|          5|            1|          1|   N|                Y|\n",
            "|R13YD66XC9221U|          1|            0|          0|   N|                N|\n",
            "| RHWG4JRVDSEYY|          3|            1|          1|   N|                Y|\n",
            "|R3SPIKMJ5IWHX8|          4|            0|          0|   N|                Y|\n",
            "| RS19ACU7KWWNE|          5|            1|          1|   N|                Y|\n",
            "+--------------+-----------+-------------+-----------+----+-----------------+\n",
            "only showing top 20 rows\n",
            "\n"
          ]
        }
      ]
    },
    {
      "cell_type": "code",
      "source": [
        "# retrieve all the rows where the total_votes count is equal to or greater than 20\n",
        "vine_df_20 = vine_df[vine_df[\"total_votes\"] >= 20]\n",
        "vine_df_20.show()"
      ],
      "metadata": {
        "colab": {
          "base_uri": "https://localhost:8080/"
        },
        "id": "KbJGEfemCnTa",
        "outputId": "f43a1eb9-ed8f-4666-f9f0-65eb52fa3d86"
      },
      "execution_count": 9,
      "outputs": [
        {
          "output_type": "stream",
          "name": "stdout",
          "text": [
            "+--------------+-----------+-------------+-----------+----+-----------------+\n",
            "|     review_id|star_rating|helpful_votes|total_votes|vine|verified_purchase|\n",
            "+--------------+-----------+-------------+-----------+----+-----------------+\n",
            "|R16YC6SMGKA8SR|          5|           23|         23|   N|                Y|\n",
            "| R5O4WE9UM60B0|          1|           29|         29|   N|                Y|\n",
            "|R2EKRVCRC7U0IY|          1|           22|         24|   N|                Y|\n",
            "|R2OKV47GETH0L7|          5|           24|         24|   N|                Y|\n",
            "| R36LII9IITE17|          1|           22|         24|   N|                Y|\n",
            "|R35VKNE16PFY0H|          5|           22|         24|   N|                N|\n",
            "|R3TG008LHHZZIN|          5|          123|        125|   N|                Y|\n",
            "|R2FYQBKCC1XG4M|          5|           20|         20|   N|                Y|\n",
            "| R63PV336NI5X7|          1|           27|         28|   N|                Y|\n",
            "|R1R42WPHB5ZSWI|          5|           51|         52|   N|                Y|\n",
            "| RXSS0QZJE1TEO|          1|           35|         35|   N|                Y|\n",
            "| RGS9C5XKWVYP9|          1|           24|         24|   N|                Y|\n",
            "|R3R5BWMKH1EUIQ|          5|           26|         27|   N|                N|\n",
            "|R2KBDT7RGO1G86|          3|           33|         39|   N|                Y|\n",
            "|R2WA09RFYT69GB|          5|           21|         22|   N|                Y|\n",
            "| RYNTUAMCHU3W4|          5|           22|         22|   N|                Y|\n",
            "|R3U5NCDM6NLHLC|          5|           29|         30|   N|                Y|\n",
            "| R8708W8U0Z89A|          2|           37|         38|   N|                Y|\n",
            "| RFT7R66D3SA54|          5|           23|         24|   N|                Y|\n",
            "|R1OI5TTOS49U8R|          5|           33|         34|   N|                Y|\n",
            "+--------------+-----------+-------------+-----------+----+-----------------+\n",
            "only showing top 20 rows\n",
            "\n"
          ]
        }
      ]
    },
    {
      "cell_type": "code",
      "source": [
        "# retrieve all the rows where the number of helpful_votes divided by total_votes is equal to or greater than 50%\n",
        "helpful_percent = vine_df_20[\"helpful_votes\"] / vine_df_20[\"total_votes\"]\n",
        "vine_df_50 = vine_df_20[vine_df_20[\"helpful_votes\"] / vine_df_20[\"total_votes\"] >= .5]\n",
        "vine_df_50.show()"
      ],
      "metadata": {
        "colab": {
          "base_uri": "https://localhost:8080/"
        },
        "id": "mJdtpNiJD_k-",
        "outputId": "ae4d3de5-9a6f-4586-99c6-40b8cd109130"
      },
      "execution_count": 12,
      "outputs": [
        {
          "output_type": "stream",
          "name": "stdout",
          "text": [
            "+--------------+-----------+-------------+-----------+----+-----------------+\n",
            "|     review_id|star_rating|helpful_votes|total_votes|vine|verified_purchase|\n",
            "+--------------+-----------+-------------+-----------+----+-----------------+\n",
            "|R16YC6SMGKA8SR|          5|           23|         23|   N|                Y|\n",
            "| R5O4WE9UM60B0|          1|           29|         29|   N|                Y|\n",
            "|R2EKRVCRC7U0IY|          1|           22|         24|   N|                Y|\n",
            "|R2OKV47GETH0L7|          5|           24|         24|   N|                Y|\n",
            "| R36LII9IITE17|          1|           22|         24|   N|                Y|\n",
            "|R35VKNE16PFY0H|          5|           22|         24|   N|                N|\n",
            "|R3TG008LHHZZIN|          5|          123|        125|   N|                Y|\n",
            "|R2FYQBKCC1XG4M|          5|           20|         20|   N|                Y|\n",
            "| R63PV336NI5X7|          1|           27|         28|   N|                Y|\n",
            "|R1R42WPHB5ZSWI|          5|           51|         52|   N|                Y|\n",
            "| RXSS0QZJE1TEO|          1|           35|         35|   N|                Y|\n",
            "| RGS9C5XKWVYP9|          1|           24|         24|   N|                Y|\n",
            "|R3R5BWMKH1EUIQ|          5|           26|         27|   N|                N|\n",
            "|R2KBDT7RGO1G86|          3|           33|         39|   N|                Y|\n",
            "|R2WA09RFYT69GB|          5|           21|         22|   N|                Y|\n",
            "| RYNTUAMCHU3W4|          5|           22|         22|   N|                Y|\n",
            "|R3U5NCDM6NLHLC|          5|           29|         30|   N|                Y|\n",
            "| R8708W8U0Z89A|          2|           37|         38|   N|                Y|\n",
            "| RFT7R66D3SA54|          5|           23|         24|   N|                Y|\n",
            "|R1OI5TTOS49U8R|          5|           33|         34|   N|                Y|\n",
            "+--------------+-----------+-------------+-----------+----+-----------------+\n",
            "only showing top 20 rows\n",
            "\n"
          ]
        }
      ]
    },
    {
      "cell_type": "code",
      "source": [
        "# retrieve all the rows where a review was written as part of the Vine program (paid), vine == 'Y'\n",
        "vine_df_yes = vine_df_50[vine_df[\"vine\"] == \"Y\"]\n",
        "vine_df_yes.show()"
      ],
      "metadata": {
        "colab": {
          "base_uri": "https://localhost:8080/"
        },
        "id": "6CgD1JOaFAmF",
        "outputId": "dcb3c7a6-4750-44e0-cb87-d99afd1edfde"
      },
      "execution_count": 13,
      "outputs": [
        {
          "output_type": "stream",
          "name": "stdout",
          "text": [
            "+--------------+-----------+-------------+-----------+----+-----------------+\n",
            "|     review_id|star_rating|helpful_votes|total_votes|vine|verified_purchase|\n",
            "+--------------+-----------+-------------+-----------+----+-----------------+\n",
            "|R15PXA9XU9ZKSU|          4|           29|         29|   Y|                N|\n",
            "|R2LJ4QYQ4PYDEH|          5|           24|         26|   Y|                N|\n",
            "|R2PJWWQZ37WCIC|          5|           95|         96|   Y|                N|\n",
            "|R33G2VDKRN2USY|          5|           21|         21|   Y|                N|\n",
            "|R13R4X37T2U50A|          4|           52|         57|   Y|                N|\n",
            "|R1X1J2NAQ39DF6|          4|           29|         34|   Y|                N|\n",
            "|R2UV5XHFNMPXOX|          5|           60|         61|   Y|                N|\n",
            "|R31V08BCC9X3MF|          5|           18|         22|   Y|                N|\n",
            "|R2G00QWTYW9N2G|          5|           86|         91|   Y|                N|\n",
            "| RL8H3NKKP989J|          5|           30|         34|   Y|                N|\n",
            "| RZ65QBOJ8ZNRN|          4|           19|         22|   Y|                N|\n",
            "| RDZBWH5MFEQY1|          5|           18|         22|   Y|                N|\n",
            "|R24SU7KP57HE8L|          4|           25|         26|   Y|                N|\n",
            "| RV3V9VIC29R8S|          2|           66|         68|   Y|                N|\n",
            "|R31AR3XSFSHY1B|          4|           33|         35|   Y|                N|\n",
            "|R3VWAKQ4JXGE55|          5|           33|         34|   Y|                N|\n",
            "| RNZ2BP0EHN7IK|          5|           20|         20|   Y|                N|\n",
            "| RXKITVQ3MN3PS|          4|           22|         23|   Y|                N|\n",
            "|R3TZE1OYDVZPRD|          5|           23|         24|   Y|                N|\n",
            "|R3FO353G2ET17M|          4|           23|         24|   Y|                N|\n",
            "+--------------+-----------+-------------+-----------+----+-----------------+\n",
            "only showing top 20 rows\n",
            "\n"
          ]
        }
      ]
    },
    {
      "cell_type": "code",
      "source": [
        "# Number of Vine Reviews\n",
        "vine_reviews = vine_df_yes.count()\n",
        "vine_reviews"
      ],
      "metadata": {
        "colab": {
          "base_uri": "https://localhost:8080/"
        },
        "id": "_eZzQsiTReLl",
        "outputId": "6b67a9bd-3911-4da4-ce28-71c11ea3fe51"
      },
      "execution_count": 41,
      "outputs": [
        {
          "output_type": "execute_result",
          "data": {
            "text/plain": [
              "21"
            ]
          },
          "metadata": {},
          "execution_count": 41
        }
      ]
    },
    {
      "cell_type": "code",
      "source": [
        "# retrieve all the rows where the review was not part of the Vine program (unpaid), vine == 'N'\n",
        "vine_df_no = vine_df_50[vine_df[\"vine\"] == \"N\"]\n",
        "vine_df_no.show()"
      ],
      "metadata": {
        "colab": {
          "base_uri": "https://localhost:8080/"
        },
        "id": "uXzB0uDjFVnB",
        "outputId": "400ec7bd-d78e-447f-99bc-a3ab8055a892"
      },
      "execution_count": 14,
      "outputs": [
        {
          "output_type": "stream",
          "name": "stdout",
          "text": [
            "+--------------+-----------+-------------+-----------+----+-----------------+\n",
            "|     review_id|star_rating|helpful_votes|total_votes|vine|verified_purchase|\n",
            "+--------------+-----------+-------------+-----------+----+-----------------+\n",
            "|R16YC6SMGKA8SR|          5|           23|         23|   N|                Y|\n",
            "| R5O4WE9UM60B0|          1|           29|         29|   N|                Y|\n",
            "|R2EKRVCRC7U0IY|          1|           22|         24|   N|                Y|\n",
            "|R2OKV47GETH0L7|          5|           24|         24|   N|                Y|\n",
            "| R36LII9IITE17|          1|           22|         24|   N|                Y|\n",
            "|R35VKNE16PFY0H|          5|           22|         24|   N|                N|\n",
            "|R3TG008LHHZZIN|          5|          123|        125|   N|                Y|\n",
            "|R2FYQBKCC1XG4M|          5|           20|         20|   N|                Y|\n",
            "| R63PV336NI5X7|          1|           27|         28|   N|                Y|\n",
            "|R1R42WPHB5ZSWI|          5|           51|         52|   N|                Y|\n",
            "| RXSS0QZJE1TEO|          1|           35|         35|   N|                Y|\n",
            "| RGS9C5XKWVYP9|          1|           24|         24|   N|                Y|\n",
            "|R3R5BWMKH1EUIQ|          5|           26|         27|   N|                N|\n",
            "|R2KBDT7RGO1G86|          3|           33|         39|   N|                Y|\n",
            "|R2WA09RFYT69GB|          5|           21|         22|   N|                Y|\n",
            "| RYNTUAMCHU3W4|          5|           22|         22|   N|                Y|\n",
            "|R3U5NCDM6NLHLC|          5|           29|         30|   N|                Y|\n",
            "| R8708W8U0Z89A|          2|           37|         38|   N|                Y|\n",
            "| RFT7R66D3SA54|          5|           23|         24|   N|                Y|\n",
            "|R1OI5TTOS49U8R|          5|           33|         34|   N|                Y|\n",
            "+--------------+-----------+-------------+-----------+----+-----------------+\n",
            "only showing top 20 rows\n",
            "\n"
          ]
        }
      ]
    },
    {
      "cell_type": "code",
      "source": [
        "# Number of Non-Vine Reviews\n",
        "nonvine_reviews = vine_df_no.count()\n",
        "nonvine_reviews"
      ],
      "metadata": {
        "colab": {
          "base_uri": "https://localhost:8080/"
        },
        "id": "njkHPYCsRoef",
        "outputId": "276a38b3-3823-44c1-fe35-0558d98b0b8c"
      },
      "execution_count": 42,
      "outputs": [
        {
          "output_type": "execute_result",
          "data": {
            "text/plain": [
              "7689"
            ]
          },
          "metadata": {},
          "execution_count": 42
        }
      ]
    },
    {
      "cell_type": "code",
      "source": [
        "# Determine the total number of reviews\n",
        "review_count = vine_df_50.count()\n",
        "review_count"
      ],
      "metadata": {
        "colab": {
          "base_uri": "https://localhost:8080/"
        },
        "id": "qLT8Nik8Ff6Z",
        "outputId": "e2581fb9-c6c4-48af-c2c6-fecbcc3ea1df"
      },
      "execution_count": 35,
      "outputs": [
        {
          "output_type": "execute_result",
          "data": {
            "text/plain": [
              "7710"
            ]
          },
          "metadata": {},
          "execution_count": 35
        }
      ]
    },
    {
      "cell_type": "code",
      "source": [
        "# Number of 5-star reviews\n",
        "five_star_reviews = vine_df_50[vine_df_50[\"star_rating\"] == 5].count()\n",
        "five_star_reviews"
      ],
      "metadata": {
        "colab": {
          "base_uri": "https://localhost:8080/"
        },
        "id": "RYyujHv0FpvX",
        "outputId": "4362ebc2-667a-4577-d186-b897cb6af3ed"
      },
      "execution_count": 25,
      "outputs": [
        {
          "output_type": "execute_result",
          "data": {
            "text/plain": [
              "4455"
            ]
          },
          "metadata": {},
          "execution_count": 25
        }
      ]
    },
    {
      "cell_type": "code",
      "source": [
        "# Percentage of 5-star reviews for the two types of review (paid vs unpaid)\n",
        "# Paid\n",
        "paid_five_star = vine_df_yes[vine_df_yes[\"star_rating\"] == 5].count()\n",
        "percent_paid = (paid_five_star / vine_reviews)*100\n",
        "percent_paid"
      ],
      "metadata": {
        "colab": {
          "base_uri": "https://localhost:8080/"
        },
        "id": "WcGbZ7xiFrP-",
        "outputId": "8c2a22c9-ed26-49e3-a140-e52cb5708067"
      },
      "execution_count": 43,
      "outputs": [
        {
          "output_type": "execute_result",
          "data": {
            "text/plain": [
              "52.38095238095239"
            ]
          },
          "metadata": {},
          "execution_count": 43
        }
      ]
    },
    {
      "cell_type": "code",
      "source": [
        "paid_five_star"
      ],
      "metadata": {
        "colab": {
          "base_uri": "https://localhost:8080/"
        },
        "id": "AlR8j6yqSOeb",
        "outputId": "e0ab5bc8-a781-4d33-bd31-53b00d866f6a"
      },
      "execution_count": 38,
      "outputs": [
        {
          "output_type": "execute_result",
          "data": {
            "text/plain": [
              "11"
            ]
          },
          "metadata": {},
          "execution_count": 38
        }
      ]
    },
    {
      "cell_type": "code",
      "source": [
        "# Percentage of 5-star reviews for the two types of review (paid vs unpaid)\n",
        "# Unpaid\n",
        "unpaid_five_star = vine_df_no[vine_df_no[\"star_rating\"] == 5].count()\n",
        "percent_unpaid = (unpaid_five_star / nonvine_reviews)*100\n",
        "percent_unpaid"
      ],
      "metadata": {
        "colab": {
          "base_uri": "https://localhost:8080/"
        },
        "id": "NFCPAwVuODOw",
        "outputId": "ab1af3d5-172f-460e-e4bd-febfea679998"
      },
      "execution_count": 44,
      "outputs": [
        {
          "output_type": "execute_result",
          "data": {
            "text/plain": [
              "57.79685264663805"
            ]
          },
          "metadata": {},
          "execution_count": 44
        }
      ]
    },
    {
      "cell_type": "code",
      "source": [
        "unpaid_five_star"
      ],
      "metadata": {
        "colab": {
          "base_uri": "https://localhost:8080/"
        },
        "id": "9Nogz5UjSW5X",
        "outputId": "04f8bd19-2390-47ad-e62d-dcb1da1ebc44"
      },
      "execution_count": 39,
      "outputs": [
        {
          "output_type": "execute_result",
          "data": {
            "text/plain": [
              "4444"
            ]
          },
          "metadata": {},
          "execution_count": 39
        }
      ]
    }
  ]
}